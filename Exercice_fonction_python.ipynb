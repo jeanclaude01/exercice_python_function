{
 "cells": [
  {
   "cell_type": "code",
   "execution_count": null,
   "id": "9d986b70",
   "metadata": {},
   "outputs": [],
   "source": [
    "#Checkpoint Objective\n",
    "## To create a calculator app that can perform basic arithmetic operations."
   ]
  },
  {
   "cell_type": "code",
   "execution_count": 8,
   "id": "1eff8e86",
   "metadata": {},
   "outputs": [
    {
     "name": "stdout",
     "output_type": "stream",
     "text": [
      "Selectionner l'opération\n",
      "1.Somme\n",
      "2.Soustraction\n",
      "3.Multiplication\n",
      "4.Division\n",
      "Entrer votrer choix (1/2/3/4): 10\n",
      "Invalid Input\n",
      "Entrer votrer choix (1/2/3/4): 5\n",
      "Invalid Input\n",
      "Entrer votrer choix (1/2/3/4): 1\n",
      "Enter first number: 50\n",
      "Enter second number: 558\n",
      "50.0 + 558.0 = 608.0\n",
      "Souhaitez-vous faire un autre calcul ? (oui/non): non\n"
     ]
    }
   ],
   "source": [
    "# Cette fonction fait la somme de deux nombres\n",
    "def somme(x, y):\n",
    "    return x + y\n",
    "\n",
    "# Cette fonction fait la soustraction de deux nombres\n",
    "def soustraction(x, y):\n",
    "    return x - y\n",
    "\n",
    "# Cette fonction fait la multiplication de deux nombres\n",
    "def multiplication(x, y):\n",
    "    return x * y\n",
    "\n",
    "# Cette fonction fait la division de deux nombres\n",
    "def division(x, y):\n",
    "    return x / y\n",
    "\n",
    "\n",
    "print(\"Selectionner l'opération\")\n",
    "print(\"1.Somme\")\n",
    "print(\"2.Soustraction\")\n",
    "print(\"3.Multiplication\")\n",
    "print(\"4.Division\")\n",
    "\n",
    "while True:\n",
    "    # Récupérer l'input de l'utilisateur\n",
    "    choice = input(\"Entrer votrer choix (1/2/3/4): \")\n",
    "\n",
    "    # Vérifier si le choix est l'un des 4 opérateurs\n",
    "    if choice in ('1', '2', '3', '4'):\n",
    "        try:\n",
    "            num1 = float(input(\"Enter first number: \"))\n",
    "            num2 = float(input(\"Enter second number: \"))\n",
    "        except ValueError:\n",
    "            print(\"Input invalide. Veuillez rééssayer un nombre.\")\n",
    "            continue\n",
    "\n",
    "        if choice == '1':\n",
    "            print(num1, \"+\", num2, \"=\", somme(num1, num2))\n",
    "\n",
    "        elif choice == '2':\n",
    "            print(num1, \"-\", num2, \"=\", soustraction(num1, num2))\n",
    "\n",
    "        elif choice == '3':\n",
    "            print(num1, \"*\", num2, \"=\", multiplication(num1, num2))\n",
    "\n",
    "        elif choice == '4':\n",
    "            print(num1, \"/\", num2, \"=\", division(num1, num2))\n",
    "        \n",
    "        # Vérifier si l'utilisateur souhaite effectuer une autre opération\n",
    "        # Arrêter la boucle while si la réponse est non\n",
    "        next_calculation = input(\"Souhaitez-vous faire un autre calcul ? (oui/non): \")\n",
    "        if next_calculation == \"non\":\n",
    "          break\n",
    "    else:\n",
    "        print(\"Invalid Input\")"
   ]
  },
  {
   "cell_type": "code",
   "execution_count": null,
   "id": "21c84e03",
   "metadata": {},
   "outputs": [],
   "source": []
  },
  {
   "cell_type": "code",
   "execution_count": null,
   "id": "7c4d68f1",
   "metadata": {},
   "outputs": [],
   "source": []
  }
 ],
 "metadata": {
  "kernelspec": {
   "display_name": "Python 3 (ipykernel)",
   "language": "python",
   "name": "python3"
  },
  "language_info": {
   "codemirror_mode": {
    "name": "ipython",
    "version": 3
   },
   "file_extension": ".py",
   "mimetype": "text/x-python",
   "name": "python",
   "nbconvert_exporter": "python",
   "pygments_lexer": "ipython3",
   "version": "3.10.9"
  }
 },
 "nbformat": 4,
 "nbformat_minor": 5
}
